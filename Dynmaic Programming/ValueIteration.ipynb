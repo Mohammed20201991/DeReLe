{
 "cells": [
  {
   "cell_type": "markdown",
   "metadata": {},
   "source": [
    "# Dynmic Programming Value Iteration MDP Example : Gambler's Problem "
   ]
  },
  {
   "cell_type": "code",
   "execution_count": null,
   "metadata": {},
   "outputs": [],
   "source": []
  },
  {
   "cell_type": "code",
   "execution_count": 1,
   "metadata": {},
   "outputs": [
    {
     "name": "stdout",
     "output_type": "stream",
     "text": [
      "Populating the interactive namespace from numpy and matplotlib\n"
     ]
    }
   ],
   "source": [
    "import numpy as np\n",
    "from tqdm import tqdm\n",
    "import matplotlib.pyplot as plt\n",
    "import seaborn as sns\n",
    "sns.set_style(\"darkgrid\")\n",
    "%pylab inline\n",
    "import random"
   ]
  },
  {
   "cell_type": "markdown",
   "metadata": {},
   "source": [
    "# Psudo Code"
   ]
  },
  {
   "cell_type": "raw",
   "metadata": {},
   "source": [
    "V(s) = 0 foreach state s in S\n",
    "  repeat \n",
    "     for each state s in S\n",
    "        foreach action a in A\n",
    "        Q(s,a)= R(s,a) + sum_next_s(P(next_s|s,a)*V(next_s))\n",
    "     V(s) = max_a (s,a)\n",
    "  until V converge"
   ]
  },
  {
   "cell_type": "raw",
   "metadata": {},
   "source": [
    "s0: initial fortune \n",
    "N : the maximum possible fortune \n",
    "P : Probablity of winning a bet \n",
    "Reward only when fortune is N \n",
    "Aim : Calculate the expected reward "
   ]
  },
  {
   "cell_type": "code",
   "execution_count": 2,
   "metadata": {},
   "outputs": [
    {
     "name": "stdout",
     "output_type": "stream",
     "text": [
      "[0, 1, 2, 3, 4, 5, 6, 7, 8, 9, 10] \n",
      " [0, 1, 2, 3, 4, 5, 6, 7, 8, 9, 10]\n"
     ]
    }
   ],
   "source": [
    "N = 10 \n",
    "S= [* range(0,N+1)]  # [0,1,2,............,N]\n",
    "A= [* range(0,N+1)]  # [0,1,2,............,N]\n",
    "print(S,'\\n',A)"
   ]
  },
  {
   "cell_type": "code",
   "execution_count": 3,
   "metadata": {},
   "outputs": [],
   "source": [
    "def P(s_next,s,a):\n",
    "    if s+a == s_next and a <= min(s,N-s) and 0<s<N  and a >= 1: # win bet\n",
    "        return P\n",
    "    elif s-a == s_next and a <= min (s,N-s) and 0 <s<N and a>= 1:  # loss bet \n",
    "        return (1-P)\n",
    "    else:\n",
    "     return 0"
   ]
  },
  {
   "cell_type": "code",
   "execution_count": 4,
   "metadata": {},
   "outputs": [],
   "source": [
    "def R(s,a):\n",
    "    if s== N: # win game \n",
    "        return 1 \n",
    "    else : \n",
    "        return 0 "
   ]
  },
  {
   "cell_type": "code",
   "execution_count": 5,
   "metadata": {},
   "outputs": [],
   "source": [
    "def value_iteration(S,A,P,R):\n",
    "    '''\n",
    "    : parm list S: set of States \n",
    "    : parm list A: set of Actions \n",
    "    : parm function P: set of transtion probablity \n",
    "    : parm function R: reward fun \n",
    "    '''\n",
    "    \n",
    "    V = {s: 0 for s in S}\n",
    "    optimal_policy = {s:0 for s in S}\n",
    "    while True:\n",
    "        oldV = V.copy()\n",
    "        for s in S: \n",
    "            Q= {}\n",
    "            for a in A :\n",
    "             Q[a] = R(s,a) + sum(P* oldV[s_next]  for s_next in S)  #P(s_next,s,a)\n",
    "            V[s] = max(Q.values())\n",
    "            optimal_policy[s]= max(Q,key=Q.get)\n",
    "        if all(oldV[s] == V[s] for s in S):\n",
    "            break\n",
    "    return V, optimal_policy"
   ]
  },
  {
   "cell_type": "code",
   "execution_count": 6,
   "metadata": {},
   "outputs": [
    {
     "name": "stderr",
     "output_type": "stream",
     "text": [
      "C:\\Users\\Mohammed\\AppData\\Local\\Temp/ipykernel_8800/3228670572.py:16: DeprecationWarning: Calling np.sum(generator) is deprecated, and in the future will give a different result. Use np.sum(np.fromiter(generator)) or the python sum builtin instead.\n",
      "  Q[a] = R(s,a) + sum(P* oldV[s_next]  for s_next in S)  #P(s_next,s,a)\n"
     ]
    }
   ],
   "source": [
    "P = 0.4  # probablity of winning a bet \n",
    "V , optimal_policy = value_iteration(S,A,P,R)"
   ]
  },
  {
   "cell_type": "code",
   "execution_count": 7,
   "metadata": {},
   "outputs": [
    {
     "data": {
      "text/plain": [
       "{0: 0.0,\n",
       " 1: 0.0,\n",
       " 2: 0.0,\n",
       " 3: 0.0,\n",
       " 4: 0.0,\n",
       " 5: 0.0,\n",
       " 6: 0.0,\n",
       " 7: 0.0,\n",
       " 8: 0.0,\n",
       " 9: 0.0,\n",
       " 10: 1.0}"
      ]
     },
     "execution_count": 7,
     "metadata": {},
     "output_type": "execute_result"
    }
   ],
   "source": [
    "V"
   ]
  },
  {
   "cell_type": "code",
   "execution_count": 8,
   "metadata": {},
   "outputs": [
    {
     "data": {
      "text/plain": [
       "{0: 0, 1: 0, 2: 0, 3: 0, 4: 0, 5: 0, 6: 0, 7: 0, 8: 0, 9: 0, 10: 0}"
      ]
     },
     "execution_count": 8,
     "metadata": {},
     "output_type": "execute_result"
    }
   ],
   "source": [
    "optimal_policy"
   ]
  },
  {
   "cell_type": "code",
   "execution_count": null,
   "metadata": {},
   "outputs": [],
   "source": []
  }
 ],
 "metadata": {
  "interpreter": {
   "hash": "0f3b7b052d7b1a42c731f8421e182af33289753e1044751f44c23369b1579e8b"
  },
  "kernelspec": {
   "display_name": "Python 3 (ipykernel)",
   "language": "python",
   "name": "python3"
  },
  "language_info": {
   "codemirror_mode": {
    "name": "ipython",
    "version": 3
   },
   "file_extension": ".py",
   "mimetype": "text/x-python",
   "name": "python",
   "nbconvert_exporter": "python",
   "pygments_lexer": "ipython3",
   "version": "3.9.7"
  }
 },
 "nbformat": 4,
 "nbformat_minor": 2
}
