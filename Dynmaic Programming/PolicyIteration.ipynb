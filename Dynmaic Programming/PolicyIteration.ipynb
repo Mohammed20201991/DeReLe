{
 "cells": [
  {
   "cell_type": "markdown",
   "metadata": {},
   "source": [
    "# Dynmic Programming Policy  Iteration MDP Example : Gambler's Problem "
   ]
  },
  {
   "cell_type": "markdown",
   "metadata": {},
   "source": [
    "# Psudo Code"
   ]
  },
  {
   "cell_type": "raw",
   "metadata": {},
   "source": [
    "Choose Pi_0 and set i=0                     ----> Step1: Initialization \n",
    "\n",
    "repeat \n",
    "     for each state s in S                  ----> Step2: Policy Evaluation \n",
    "        Calculte state value function on pi ---->\n",
    "        \n",
    "     foreach action a in A                  ----> Step3 : Policy improvment \n",
    "        Compute  Pi+1(s)                    ---->\n",
    "     i = i+1 \n",
    "until Pi  converges"
   ]
  },
  {
   "cell_type": "raw",
   "metadata": {},
   "source": [
    "s0: initial fortune \n",
    "N : the maximum possible fortune \n",
    "P : Probablity of winning a bet \n",
    "Reward only when fortune is N \n",
    "Aim : Calculate the expected reward "
   ]
  },
  {
   "cell_type": "code",
   "execution_count": 1,
   "metadata": {},
   "outputs": [
    {
     "name": "stdout",
     "output_type": "stream",
     "text": [
      "[0, 1, 2, 3, 4, 5, 6, 7, 8, 9, 10] \n",
      " [0, 1, 2, 3, 4, 5, 6, 7, 8, 9, 10]\n"
     ]
    }
   ],
   "source": [
    "N = 10 \n",
    "S= [* range(0,N+1)]  # [0,1,2,............,N]\n",
    "A= [* range(0,N+1)]  # [0,1,2,............,N]\n",
    "print(S,'\\n',A)"
   ]
  },
  {
   "cell_type": "code",
   "execution_count": 2,
   "metadata": {},
   "outputs": [],
   "source": [
    "def P(s_next,s,a):\n",
    "    if s+a == s_next and a <= min(s,N-s) and 0<s<N  and a >= 1: # win bet\n",
    "        return P\n",
    "    elif s-a == s_next and a <= min (s,N-s) and 0 <s<N and a>= 1:  # loss bet \n",
    "        return (1-P)\n",
    "    else:\n",
    "     return 0"
   ]
  },
  {
   "cell_type": "code",
   "execution_count": 3,
   "metadata": {},
   "outputs": [],
   "source": [
    "def R(s,a):\n",
    "    if s== N: # win game \n",
    "        return 1 \n",
    "    else : \n",
    "        return 0 "
   ]
  },
  {
   "cell_type": "code",
   "execution_count": 4,
   "metadata": {},
   "outputs": [],
   "source": [
    "def policy_evaluation(policy,S):\n",
    " V = {s:0 for s in S} \n",
    " while True :\n",
    "    oldV = V.copy()\n",
    "    for s in S:\n",
    "        a = policy[s]\n",
    "        V[s]= R(s,a)+ sum(P(s_next,s,a)*old [s_next] for s_next in S)\n",
    "        if all(oldV[s] == V[s] for s in S):\n",
    "            break "
   ]
  },
  {
   "cell_type": "code",
   "execution_count": 5,
   "metadata": {},
   "outputs": [],
   "source": [
    "def policy_improvment(V,S,A):\n",
    "    policy = {s:A[0] for s in S}\n",
    "    for s in S: \n",
    "        Q= {}\n",
    "        for a in A :\n",
    "         Q[a] = R(s,a) + sum(P* oldV[s_next]  for s_next in S)  #P(s_next,s,a)\n",
    "        \n",
    "        policy[s]= max(Q,key=Q.get)\n",
    "    return policy\n",
    "    "
   ]
  },
  {
   "cell_type": "code",
   "execution_count": 6,
   "metadata": {},
   "outputs": [],
   "source": [
    "P = 0.4  # probablity of winning a bet \n",
    "# optimal_policy = policy_evaluation(A,S)"
   ]
  },
  {
   "cell_type": "code",
   "execution_count": null,
   "metadata": {},
   "outputs": [],
   "source": [
    "optimal_policy"
   ]
  },
  {
   "cell_type": "code",
   "execution_count": null,
   "metadata": {},
   "outputs": [],
   "source": []
  }
 ],
 "metadata": {
  "interpreter": {
   "hash": "0f3b7b052d7b1a42c731f8421e182af33289753e1044751f44c23369b1579e8b"
  },
  "kernelspec": {
   "display_name": "Python 3 (ipykernel)",
   "language": "python",
   "name": "python3"
  },
  "language_info": {
   "codemirror_mode": {
    "name": "ipython",
    "version": 3
   },
   "file_extension": ".py",
   "mimetype": "text/x-python",
   "name": "python",
   "nbconvert_exporter": "python",
   "pygments_lexer": "ipython3",
   "version": "3.9.7"
  }
 },
 "nbformat": 4,
 "nbformat_minor": 2
}
