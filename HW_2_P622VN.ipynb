{
 "cells": [
  {
   "cell_type": "markdown",
   "metadata": {},
   "source": [
    "# Alhitawi Mohammed P622VN "
   ]
  },
  {
   "cell_type": "markdown",
   "metadata": {},
   "source": [
    " 2-armed bandit situation\n",
    "Importing libreires "
   ]
  },
  {
   "cell_type": "code",
   "execution_count": 1,
   "metadata": {
    "id": "Tht2pH3PnsFC"
   },
   "outputs": [],
   "source": [
    "import pandas as pd\n",
    "import matplotlib.pyplot as plt\n",
    "import numpy as np\n",
    "import random"
   ]
  },
  {
   "cell_type": "markdown",
   "metadata": {},
   "source": [
    "Set Value Parameters "
   ]
  },
  {
   "cell_type": "code",
   "execution_count": 2,
   "metadata": {},
   "outputs": [
    {
     "name": "stdout",
     "output_type": "stream",
     "text": [
      "0.61 -51.0 -15.0 0.58 -54.0 -29.0\n"
     ]
    }
   ],
   "source": [
    "Case_A_P_jam         =  0.61    #P(jam)\n",
    "Case_A_Reward_jam    = -51.00   #Reward(jam)\n",
    "Case_A_Reward_normal = -15.00   #Reward(normal)\n",
    "\n",
    "Case_B_P_jam         =  0.58    #P(jam)\n",
    "Case_B_Reward_jam    = -54.00   #Reward(jam)\n",
    "Case_B_Reward_normal = -29.00   #Reward(normal)\n",
    "\n",
    "print(Case_A_P_jam,Case_A_Reward_jam,Case_A_Reward_normal,\n",
    "      Case_B_P_jam,Case_B_Reward_jam,Case_B_Reward_normal)"
   ]
  },
  {
   "cell_type": "code",
   "execution_count": 3,
   "metadata": {},
   "outputs": [
    {
     "name": "stdout",
     "output_type": "stream",
     "text": [
      "0.91 -44 -27 0.86 -53 -18\n"
     ]
    }
   ],
   "source": [
    "# second case\n",
    "Case_A_P_jam2         =  0.91    #P(jam)\n",
    "Case_A_Reward_jam2    = -44      #Reward(jam)\n",
    "Case_A_Reward_normal2 = -27      #Reward(normal)\n",
    "\n",
    "Case_B_P_jam2         =  0.86    #P(jam)\n",
    "Case_B_Reward_jam2    = -53      #Reward(jam)\n",
    "Case_B_Reward_normal2 = -18      #Reward(normal)\n",
    "\n",
    "print(Case_A_P_jam2,Case_A_Reward_jam2,Case_A_Reward_normal2,\n",
    "      Case_B_P_jam2,Case_B_Reward_jam2,Case_B_Reward_normal2)"
   ]
  },
  {
   "cell_type": "code",
   "execution_count": 4,
   "metadata": {
    "id": "T_f7RzzUzgH8"
   },
   "outputs": [],
   "source": [
    "#This function will do calculation to return the expected reward by using follwing formula \n",
    "# Ereward = Pjam * Rewardjam + Pnormal*Rewardnormal\n",
    "def Calculate_reward(A,case=1):\n",
    "  rand = random.random()\n",
    "  \n",
    "  if case == 1 and A == 0:\n",
    "    if rand < Case_A_P_jam:\n",
    "      Ereward = Case_A_P_jam * Case_A_Reward_jam  + (1-Case_A_P_jam) * Case_A_Reward_normal\n",
    "    else:\n",
    "      Ereward = (1-Case_A_P_jam) * Case_A_Reward_normal\n",
    "    \n",
    "  elif case == 1 and A == 1:\n",
    "    if rand < Case_B_P_jam:\n",
    "      Ereward = Case_B_P_jam * Case_B_Reward_jam + (1-Case_B_P_jam) * Case_B_Reward_normal\n",
    "\n",
    "    else:\n",
    "      Ereward = (1-Case_B_P_jam2) * Case_B_Reward_normal2  \n",
    "  if case == 2 and A == 0:\n",
    "    if rand < Case_A_P_jam2:\n",
    "      Ereward = Case_A_P_jam2 * Case_A_Reward_jam2 + (1-Case_A_P_jam2) * Case_A_Reward_normal2\n",
    "    else:\n",
    "      Ereward = (1-Case_A_P_jam2) * Case_A_Reward_normal2\n",
    "\n",
    "  elif case == 2 and A == 1:\n",
    "    if rand < Case_B_P_jam2:\n",
    "      Ereward = Case_B_P_jam2 * Case_B_Reward_jam2 + (1-Case_B_P_jam2) * Case_B_Reward_normal2\n",
    "    else:\n",
    "      Ereward = (1-Case_B_P_jam2) * Case_B_Reward_normal2\n",
    "  return Ereward"
   ]
  },
  {
   "cell_type": "code",
   "execution_count": 5,
   "metadata": {
    "id": "4KMII9eirv0q"
   },
   "outputs": [],
   "source": [
    "nu_steps = 1000\n",
    "# discount Rate  is less than 1 will not effect our result but we will benfite from it \n",
    "# in optimazation \n",
    "gamma = 0.99      \n",
    "max_epsilon = 1.0             \n",
    "min_epsilon = 0.01            \n",
    "decay_rate = 0.005            "
   ]
  },
  {
   "cell_type": "markdown",
   "metadata": {},
   "source": [
    "Calculating action value state "
   ]
  },
  {
   "cell_type": "code",
   "execution_count": 6,
   "metadata": {
    "id": "X8LEsSa6q75R"
   },
   "outputs": [
    {
     "name": "stdout",
     "output_type": "stream",
     "text": [
      "Q-table [-2299.81192601 -2549.12651153]\n"
     ]
    }
   ],
   "source": [
    "def Q_learning(nu_steps,case = 1):  # Start with case one by default\n",
    "# initilaze the table   \n",
    "  Q_table = np.array([0.0,0.0])\n",
    "  rewards_A = []\n",
    "  rewards_B = []\n",
    "  trackingList = []\n",
    "  epsilon = 1.0 \n",
    "# Set of action which represent BradgeA or BradgeB\n",
    "  A = [0,1]   \n",
    "  x = range(nu_steps)\n",
    "  for episode in x :      \n",
    "    exp_tradeoff = random.random()\n",
    "    # If this condition true then do  --> exploitation (by choosing  the biggest Qu value for this state)\n",
    "    if exp_tradeoff > epsilon:\n",
    "        A = np.argmax(Q_table)   \n",
    "    else:\n",
    "        A = random.choice([0,1])  # Else doing a random choice --> exploration \n",
    "    # getting expectation reward \n",
    "    E_reward = Calculate_reward(A,case)\n",
    "    if A == 0:\n",
    "      rewards_A.append(E_reward)\n",
    "    else:\n",
    "      rewards_B.append(E_reward)\n",
    "    Q_table[A] =  E_reward + gamma * Q_table[A]\n",
    "    trackingList.append([episode,Q_table[0],Q_table[1]])    \n",
    "    epsilon = min_epsilon + (max_epsilon - min_epsilon)*np.exp(-decay_rate*episode)\n",
    "    # to get  less exploration\n",
    "  print(\"Q-table\" , Q_table)\n",
    "  return rewards_A , rewards_B , trackingList \n",
    "# Calling the function \n",
    "rewards_of_bridge_A , rewards_of_bridge_B , List_case1= Q_learning(nu_steps,case=1)"
   ]
  },
  {
   "cell_type": "code",
   "execution_count": 7,
   "metadata": {
    "colab": {
     "base_uri": "https://localhost:8080/"
    },
    "id": "WTO69mvUgky0",
    "outputId": "bf719cc1-8129-4e00-ebbf-97c91109277f"
   },
   "outputs": [
    {
     "name": "stdout",
     "output_type": "stream",
     "text": [
      "Bridge A was chosen  736\n",
      "Bridge B was chosen  264\n"
     ]
    }
   ],
   "source": [
    "print(f\"Bridge A was chosen  {len(rewards_of_bridge_A)}\")\n",
    "print(f\"Bridge B was chosen  {len(rewards_of_bridge_B)}\")"
   ]
  },
  {
   "cell_type": "markdown",
   "metadata": {},
   "source": [
    "Function to Calculate and print the average reward of bridge A and B in the in both cases "
   ]
  },
  {
   "cell_type": "code",
   "execution_count": 8,
   "metadata": {},
   "outputs": [],
   "source": [
    "def av_best(x,y,case):\n",
    "    BradgeA = np.sum(x)/len(x)\n",
    "    BradgeB = np.sum(y)/len(y)\n",
    "    print(f\"The average reward of bridge A, in {case} case : \" , BradgeA)\n",
    "    print(f\"The average reward of bridge B, in {case} case : \" , BradgeB)\n",
    "    print(\"The best way is : \",max(BradgeA,BradgeB))"
   ]
  },
  {
   "cell_type": "code",
   "execution_count": 9,
   "metadata": {},
   "outputs": [
    {
     "name": "stdout",
     "output_type": "stream",
     "text": [
      "The average reward of bridge A, in first case :  -22.926684782608696\n",
      "The average reward of bridge B, in first case :  -27.666818181818183\n",
      "The best way is :  -22.926684782608696\n"
     ]
    }
   ],
   "source": [
    "av_best(rewards_of_bridge_A,rewards_of_bridge_B, case= 'first')"
   ]
  },
  {
   "cell_type": "code",
   "execution_count": 10,
   "metadata": {},
   "outputs": [],
   "source": [
    "# trackingList_case1"
   ]
  },
  {
   "cell_type": "markdown",
   "metadata": {},
   "source": [
    "# Vitulize first case "
   ]
  },
  {
   "cell_type": "code",
   "execution_count": 11,
   "metadata": {
    "colab": {
     "base_uri": "https://localhost:8080/",
     "height": 279
    },
    "id": "7g6jidh_hCQh",
    "outputId": "c7c7d718-1e18-4e61-febc-8472107e5976"
   },
   "outputs": [
    {
     "data": {
      "image/png": "[encoded data removed]",
      "text/plain": [
       "<Figure size 432x288 with 1 Axes>"
      ]
     },
     "metadata": {
      "needs_background": "light"
     },
     "output_type": "display_data"
    }
   ],
   "source": [
    "episodes1 ,R_A1,R_B1= [], [] , []\n",
    "for key in List_case1:\n",
    "  episodes1.append(key[0])\n",
    "  R_A1.append(key[1])\n",
    "  R_B1.append(key[2])\n",
    "\n",
    "plt.plot(episodes1, R_A1, 'r', label='Reward_From_Bradge_A') \n",
    "plt.plot(episodes1, R_B1, 'g', label='Reward_From_Bradge_B') \n",
    "\n",
    "plt.xlabel('episodes')\n",
    "plt.ylabel('Reward')\n",
    "plt.legend()\n",
    "plt.show()"
   ]
  },
  {
   "cell_type": "markdown",
   "metadata": {},
   "source": [
    "# Second Case "
   ]
  },
  {
   "cell_type": "code",
   "execution_count": 12,
   "metadata": {
    "colab": {
     "base_uri": "https://localhost:8080/"
    },
    "id": "-6oVjeqd9aRY",
    "outputId": "22aeb965-88f9-4852-9925-e4e9ae11759f"
   },
   "outputs": [
    {
     "name": "stdout",
     "output_type": "stream",
     "text": [
      "Q-table [-3930.97358468 -3981.94293084]\n"
     ]
    }
   ],
   "source": [
    "rewards_A_case2 , rewards_B_case2 , List_case2= Q_learning(nu_steps,case=2)"
   ]
  },
  {
   "cell_type": "code",
   "execution_count": 13,
   "metadata": {
    "colab": {
     "base_uri": "https://localhost:8080/"
    },
    "id": "edvs2eemmjMJ",
    "outputId": "f18d8afa-ca92-45f5-a0be-e922561cb699"
   },
   "outputs": [
    {
     "name": "stdout",
     "output_type": "stream",
     "text": [
      "Bridge A was chosen 754\n",
      "Bridge A was chosen 246\n"
     ]
    }
   ],
   "source": [
    "print(f\"Bridge A was chosen {str(len(rewards_A_case2))}\")\n",
    "print(f\"Bridge A was chosen {str(len(rewards_B_case2))}\")"
   ]
  },
  {
   "cell_type": "code",
   "execution_count": 14,
   "metadata": {},
   "outputs": [
    {
     "name": "stdout",
     "output_type": "stream",
     "text": [
      "The average reward of bridge A, in Second case :  -38.96517241379311\n",
      "The average reward of bridge B, in Second case :  -43.467886178861804\n",
      "The best way is :  -38.96517241379311\n"
     ]
    }
   ],
   "source": [
    "# Calculate and print the average reward of bridge A and B in the second case\n",
    "av_best(rewards_A_case2,rewards_B_case2, case= 'Second')"
   ]
  },
  {
   "cell_type": "markdown",
   "metadata": {},
   "source": [
    "# Vitulize second case "
   ]
  },
  {
   "cell_type": "code",
   "execution_count": 15,
   "metadata": {
    "colab": {
     "base_uri": "https://localhost:8080/",
     "height": 279
    },
    "id": "FNunaqdhml0J",
    "outputId": "728f190a-12ee-4910-f3e4-a2be92a01823"
   },
   "outputs": [
    {
     "data": {
      "image/png": "[encoded data removed]",
      "text/plain": [
       "<Figure size 432x288 with 1 Axes>"
      ]
     },
     "metadata": {
      "needs_background": "light"
     },
     "output_type": "display_data"
    }
   ],
   "source": [
    "episodes2 ,R_A2 ,R_B2= [], [],[]\n",
    "for key in List_case2:\n",
    "  episodes2.append(key[0])\n",
    "  R_A2.append(key[1])\n",
    "  R_B2.append(key[2])\n",
    "\n",
    "plt.plot(episodes2, R_A2, 'r', label='Reward_From_Bradge_A') \n",
    "plt.plot(episodes2, R_B2, 'g', label='Reward_From_Bradge_B') \n",
    "\n",
    "plt.xlabel('episode')\n",
    "plt.ylabel('Reward')\n",
    "plt.legend()\n",
    "plt.show()"
   ]
  },
  {
   "cell_type": "markdown",
   "metadata": {},
   "source": [
    "- We want the agent eather to do exploration or explotation in environment in 1000 epizodie \n",
    "- in first case the program did best where the Bradge A is the best way according to value calculation \n",
    "- but in the second case the program didnot the best (it should be the Bradge B)"
   ]
  },
  {
   "cell_type": "markdown",
   "metadata": {},
   "source": [
    "- In what circumstances (jamming probabilities) could this problem be hard or easy? Why?\n",
    "- in first case  the jamming will be in Braddge B\n",
    "- while in  second case the jaming will be in Bradge A \n",
    "- this problem it will be easy for the agent because he can explore and explot and the other \n",
    "- thing the reward and probablity are Known in this task \n",
    "- when this R and P are missing we can the task is hard for agent "
   ]
  },
  {
   "cell_type": "code",
   "execution_count": null,
   "metadata": {},
   "outputs": [],
   "source": []
  }
 ],
 "metadata": {
  "colab": {
   "collapsed_sections": [],
   "name": "Homework 1. DRL. AYKN6P.ipynb",
   "provenance": []
  },
  "kernelspec": {
   "display_name": "Python 3 (ipykernel)",
   "language": "python",
   "name": "python3"
  },
  "language_info": {
   "codemirror_mode": {
    "name": "ipython",
    "version": 3
   },
   "file_extension": ".py",
   "mimetype": "text/x-python",
   "name": "python",
   "nbconvert_exporter": "python",
   "pygments_lexer": "ipython3",
   "version": "3.9.7"
  }
 },
 "nbformat": 4,
 "nbformat_minor": 1
}
