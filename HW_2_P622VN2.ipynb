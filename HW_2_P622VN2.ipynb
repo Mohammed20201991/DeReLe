{
 "cells": [
  {
   "cell_type": "code",
   "execution_count": 1,
   "metadata": {
    "id": "Tht2pH3PnsFC"
   },
   "outputs": [],
   "source": [
    "import pandas as pd\n",
    "import matplotlib.pyplot as plt\n",
    "import numpy as np\n",
    "import random"
   ]
  },
  {
   "cell_type": "code",
   "execution_count": 23,
   "metadata": {
    "colab": {
     "base_uri": "https://localhost:8080/",
     "height": 305
    },
    "id": "RLHuAhp4oBRK",
    "outputId": "36012076-7928-4d6f-9bb8-bd7bb8b7cb36"
   },
   "outputs": [
    {
     "data": {
      "text/html": [
       "<div>\n",
       "<style scoped>\n",
       "    .dataframe tbody tr th:only-of-type {\n",
       "        vertical-align: middle;\n",
       "    }\n",
       "\n",
       "    .dataframe tbody tr th {\n",
       "        vertical-align: top;\n",
       "    }\n",
       "\n",
       "    .dataframe thead th {\n",
       "        text-align: right;\n",
       "    }\n",
       "</style>\n",
       "<table border=\"1\" class=\"dataframe\">\n",
       "  <thead>\n",
       "    <tr style=\"text-align: right;\">\n",
       "      <th></th>\n",
       "      <th>Unnamed: 0</th>\n",
       "      <th>CASE_1</th>\n",
       "      <th>CASE_1.1</th>\n",
       "      <th>CASE_1.2</th>\n",
       "      <th>CASE_1.3</th>\n",
       "      <th>CASE_1.4</th>\n",
       "      <th>CASE_1.5</th>\n",
       "      <th>CASE_1.6</th>\n",
       "      <th>CASE_1.7</th>\n",
       "      <th>CASE_1.8</th>\n",
       "      <th>...</th>\n",
       "      <th>CASE_2.14</th>\n",
       "      <th>CASE_2.15</th>\n",
       "      <th>CASE_2.16</th>\n",
       "      <th>CASE_2.17</th>\n",
       "      <th>CASE_2.18</th>\n",
       "      <th>CASE_2.19</th>\n",
       "      <th>CASE_2.20</th>\n",
       "      <th>CASE_2.21</th>\n",
       "      <th>CASE_2.22</th>\n",
       "      <th>CASE_2.23</th>\n",
       "    </tr>\n",
       "  </thead>\n",
       "  <tbody>\n",
       "    <tr>\n",
       "      <th>0</th>\n",
       "      <td>Neptun</td>\n",
       "      <td>P(State_A,Action_{A_B},State_B)</td>\n",
       "      <td>P(State_A,Action_{A_C},State_C)</td>\n",
       "      <td>P(State_B,Action_{B_D}_1,State_D)</td>\n",
       "      <td>P(State_B,Action_{B_D}_2,State_D)</td>\n",
       "      <td>P(State_C,Action_{C_D}_1,State_D)</td>\n",
       "      <td>P(State_C,Action_{C_D}_2,State_D)</td>\n",
       "      <td>Pjam(A_{A,B})</td>\n",
       "      <td>Reward_jam(A_{A,B})</td>\n",
       "      <td>Reward_normal(A_{A,B})</td>\n",
       "      <td>...</td>\n",
       "      <td>Reward_normal(B_{B,D}_1)</td>\n",
       "      <td>Pjam(B_{B,D}_2)</td>\n",
       "      <td>Reward_jam(B_{B,D}_2)</td>\n",
       "      <td>Reward_normal(B_{B,D}_2)</td>\n",
       "      <td>Pjam(C_{C,D}_1)</td>\n",
       "      <td>Reward_jam(C_{C,D}_1)</td>\n",
       "      <td>Reward_normal(C_{C,D}_1)</td>\n",
       "      <td>Pjam(C_{C,D}_2)</td>\n",
       "      <td>Reward_jam(C_{C,D}_2)</td>\n",
       "      <td>Reward_normal(C_{C,D}_2)</td>\n",
       "    </tr>\n",
       "    <tr>\n",
       "      <th>1</th>\n",
       "      <td>MDQVIC</td>\n",
       "      <td>1</td>\n",
       "      <td>1</td>\n",
       "      <td>1</td>\n",
       "      <td>1</td>\n",
       "      <td>1</td>\n",
       "      <td>1</td>\n",
       "      <td>0.7</td>\n",
       "      <td>-32</td>\n",
       "      <td>-3</td>\n",
       "      <td>...</td>\n",
       "      <td>-15</td>\n",
       "      <td>0.07</td>\n",
       "      <td>-41</td>\n",
       "      <td>-2</td>\n",
       "      <td>0.25</td>\n",
       "      <td>-44</td>\n",
       "      <td>-25</td>\n",
       "      <td>0.45</td>\n",
       "      <td>-50</td>\n",
       "      <td>-7</td>\n",
       "    </tr>\n",
       "    <tr>\n",
       "      <th>2</th>\n",
       "      <td>SKCWF3</td>\n",
       "      <td>1</td>\n",
       "      <td>1</td>\n",
       "      <td>1</td>\n",
       "      <td>1</td>\n",
       "      <td>1</td>\n",
       "      <td>1</td>\n",
       "      <td>0.45</td>\n",
       "      <td>-52</td>\n",
       "      <td>-7</td>\n",
       "      <td>...</td>\n",
       "      <td>-17</td>\n",
       "      <td>0.84</td>\n",
       "      <td>-33</td>\n",
       "      <td>-7</td>\n",
       "      <td>0.76</td>\n",
       "      <td>-37</td>\n",
       "      <td>-17</td>\n",
       "      <td>0.91</td>\n",
       "      <td>-59</td>\n",
       "      <td>-15</td>\n",
       "    </tr>\n",
       "    <tr>\n",
       "      <th>3</th>\n",
       "      <td>P622VN</td>\n",
       "      <td>1</td>\n",
       "      <td>1</td>\n",
       "      <td>1</td>\n",
       "      <td>1</td>\n",
       "      <td>1</td>\n",
       "      <td>1</td>\n",
       "      <td>0.65</td>\n",
       "      <td>-54</td>\n",
       "      <td>-27</td>\n",
       "      <td>...</td>\n",
       "      <td>-22</td>\n",
       "      <td>0.57</td>\n",
       "      <td>-60</td>\n",
       "      <td>-2</td>\n",
       "      <td>0.58</td>\n",
       "      <td>-56</td>\n",
       "      <td>-29</td>\n",
       "      <td>0.93</td>\n",
       "      <td>-36</td>\n",
       "      <td>-2</td>\n",
       "    </tr>\n",
       "    <tr>\n",
       "      <th>4</th>\n",
       "      <td>DIP0FH</td>\n",
       "      <td>1</td>\n",
       "      <td>1</td>\n",
       "      <td>1</td>\n",
       "      <td>1</td>\n",
       "      <td>1</td>\n",
       "      <td>1</td>\n",
       "      <td>0.77</td>\n",
       "      <td>-36</td>\n",
       "      <td>-11</td>\n",
       "      <td>...</td>\n",
       "      <td>-10</td>\n",
       "      <td>0.96</td>\n",
       "      <td>-46</td>\n",
       "      <td>-16</td>\n",
       "      <td>0.25</td>\n",
       "      <td>-34</td>\n",
       "      <td>-5</td>\n",
       "      <td>0.97</td>\n",
       "      <td>-31</td>\n",
       "      <td>-29</td>\n",
       "    </tr>\n",
       "  </tbody>\n",
       "</table>\n",
       "<p>5 rows × 49 columns</p>\n",
       "</div>"
      ],
      "text/plain": [
       "  Unnamed: 0                           CASE_1  \\\n",
       "0     Neptun  P(State_A,Action_{A_B},State_B)   \n",
       "1     MDQVIC                                1   \n",
       "2     SKCWF3                                1   \n",
       "3     P622VN                                1   \n",
       "4     DIP0FH                                1   \n",
       "\n",
       "                          CASE_1.1                           CASE_1.2  \\\n",
       "0  P(State_A,Action_{A_C},State_C)  P(State_B,Action_{B_D}_1,State_D)   \n",
       "1                                1                                  1   \n",
       "2                                1                                  1   \n",
       "3                                1                                  1   \n",
       "4                                1                                  1   \n",
       "\n",
       "                            CASE_1.3                           CASE_1.4  \\\n",
       "0  P(State_B,Action_{B_D}_2,State_D)  P(State_C,Action_{C_D}_1,State_D)   \n",
       "1                                  1                                  1   \n",
       "2                                  1                                  1   \n",
       "3                                  1                                  1   \n",
       "4                                  1                                  1   \n",
       "\n",
       "                            CASE_1.5       CASE_1.6             CASE_1.7  \\\n",
       "0  P(State_C,Action_{C_D}_2,State_D)  Pjam(A_{A,B})  Reward_jam(A_{A,B})   \n",
       "1                                  1            0.7                  -32   \n",
       "2                                  1           0.45                  -52   \n",
       "3                                  1           0.65                  -54   \n",
       "4                                  1           0.77                  -36   \n",
       "\n",
       "                 CASE_1.8  ...                 CASE_2.14        CASE_2.15  \\\n",
       "0  Reward_normal(A_{A,B})  ...  Reward_normal(B_{B,D}_1)  Pjam(B_{B,D}_2)   \n",
       "1                      -3  ...                       -15             0.07   \n",
       "2                      -7  ...                       -17             0.84   \n",
       "3                     -27  ...                       -22             0.57   \n",
       "4                     -11  ...                       -10             0.96   \n",
       "\n",
       "               CASE_2.16                 CASE_2.17        CASE_2.18  \\\n",
       "0  Reward_jam(B_{B,D}_2)  Reward_normal(B_{B,D}_2)  Pjam(C_{C,D}_1)   \n",
       "1                    -41                        -2             0.25   \n",
       "2                    -33                        -7             0.76   \n",
       "3                    -60                        -2             0.58   \n",
       "4                    -46                       -16             0.25   \n",
       "\n",
       "               CASE_2.19                 CASE_2.20        CASE_2.21  \\\n",
       "0  Reward_jam(C_{C,D}_1)  Reward_normal(C_{C,D}_1)  Pjam(C_{C,D}_2)   \n",
       "1                    -44                       -25             0.45   \n",
       "2                    -37                       -17             0.91   \n",
       "3                    -56                       -29             0.93   \n",
       "4                    -34                        -5             0.97   \n",
       "\n",
       "               CASE_2.22                 CASE_2.23  \n",
       "0  Reward_jam(C_{C,D}_2)  Reward_normal(C_{C,D}_2)  \n",
       "1                    -50                        -7  \n",
       "2                    -59                       -15  \n",
       "3                    -36                        -2  \n",
       "4                    -31                       -29  \n",
       "\n",
       "[5 rows x 49 columns]"
      ]
     },
     "execution_count": 23,
     "metadata": {},
     "output_type": "execute_result"
    }
   ],
   "source": [
    "data= pd.read_csv(\"Homework_2_input_data.csv\")\n",
    "data.head()"
   ]
  },
  {
   "cell_type": "code",
   "execution_count": 8,
   "metadata": {},
   "outputs": [
    {
     "ename": "SyntaxError",
     "evalue": "invalid syntax (Temp/ipykernel_14720/717886470.py, line 2)",
     "output_type": "error",
     "traceback": [
      "\u001b[1;36m  File \u001b[1;32m\"C:\\Users\\Mohammed\\AppData\\Local\\Temp/ipykernel_14720/717886470.py\"\u001b[1;36m, line \u001b[1;32m2\u001b[0m\n\u001b[1;33m    A= [ Action_{A_B},Action_{A_C},\u001b[0m\n\u001b[1;37m                ^\u001b[0m\n\u001b[1;31mSyntaxError\u001b[0m\u001b[1;31m:\u001b[0m invalid syntax\n"
     ]
    }
   ],
   "source": [
    "S= [ State_A, State_B, State_C,State_D ]\n",
    "# A= [ Action_{A_B},Action_{A_C},\n",
    "#      Action_{B_D}_1,Action_{B_D}_2,\n",
    "#      Action_{C_D}_1,Action_{C_D}_2]\n",
    "A= [left,right]"
   ]
  },
  {
   "cell_type": "code",
   "execution_count": 12,
   "metadata": {},
   "outputs": [],
   "source": [
    "# dict_1= {1:{1:}\n",
    "    \n",
    "#          1:{}\n",
    "#         }\n",
    "d={'A':0,\n",
    "   'B':1,\n",
    "   'C':2,\n",
    "   'D':0}"
   ]
  },
  {
   "cell_type": "markdown",
   "metadata": {},
   "source": [
    "# Case1:"
   ]
  },
  {
   "cell_type": "code",
   "execution_count": 24,
   "metadata": {
    "colab": {
     "base_uri": "https://localhost:8080/"
    },
    "id": "4_cd1gjVoRsM",
    "outputId": "1c18e4d1-caeb-41f3-b9b7-8ef73ff306e2"
   },
   "outputs": [
    {
     "name": "stdout",
     "output_type": "stream",
     "text": [
      "<class 'pandas.core.series.Series'>\n",
      "CASE_1          1\n",
      "CASE_1.1        1\n",
      "CASE_1.2        1\n",
      "CASE_1.3        1\n",
      "CASE_1.4        1\n",
      "CASE_1.5        1\n",
      "CASE_1.6     0.65\n",
      "CASE_1.7      -54\n",
      "CASE_1.8      -27\n",
      "CASE_1.9     0.22\n",
      "CASE_1.10     -38\n",
      "CASE_1.11     -23\n",
      "CASE_1.12    0.92\n",
      "CASE_1.13     -37\n",
      "CASE_1.14     -28\n",
      "CASE_1.15    0.95\n",
      "CASE_1.16     -57\n",
      "CASE_1.17     -12\n",
      "CASE_1.18    0.31\n",
      "CASE_1.19     -46\n",
      "CASE_1.20     -28\n",
      "CASE_1.21    0.81\n",
      "CASE_1.22     -32\n",
      "CASE_1.23      -9\n",
      "CASE_2       0.84\n",
      "CASE_2.1     0.72\n",
      "CASE_2.2     0.72\n",
      "CASE_2.3     0.91\n",
      "CASE_2.4     0.71\n",
      "CASE_2.5     0.88\n",
      "CASE_2.6     0.47\n",
      "CASE_2.7      -60\n",
      "CASE_2.8       -2\n",
      "CASE_2.9     0.64\n",
      "CASE_2.10     -44\n",
      "CASE_2.11     -10\n",
      "CASE_2.12    0.43\n",
      "CASE_2.13     -49\n",
      "CASE_2.14     -22\n",
      "CASE_2.15    0.57\n",
      "CASE_2.16     -60\n",
      "CASE_2.17      -2\n",
      "CASE_2.18    0.58\n",
      "CASE_2.19     -56\n",
      "CASE_2.20     -29\n",
      "CASE_2.21    0.93\n",
      "CASE_2.22     -36\n",
      "CASE_2.23      -2\n",
      "Name: P622VN, dtype: object\n"
     ]
    }
   ],
   "source": [
    "data.set_index(\"Unnamed: 0\", inplace=True )\n",
    "parameters = data.loc['P622VN']\n",
    "print(type(parameters))\n",
    "print(parameters)"
   ]
  },
  {
   "cell_type": "code",
   "execution_count": 25,
   "metadata": {
    "id": "T_f7RzzUzgH8"
   },
   "outputs": [],
   "source": [
    "def getReward(action,parameters,case=1):\n",
    "  n = random.random()\n",
    "  \n",
    "  if case == 1 and action == 0:\n",
    "    if n < parameters[0]:\n",
    "      R = parameters[0]*parameters[1] + (1-parameters[0])*parameters[2]\n",
    "    else:\n",
    "      R = (1-parameters[0])*parameters[2]\n",
    "  elif case == 1 and action == 1:\n",
    "    if n < parameters[3]:\n",
    "      R = parameters[3]*parameters[4] + (1-parameters[3])*parameters[5]\n",
    "    else:\n",
    "      R = (1-parameters[3])*parameters[5]\n",
    "  \n",
    "  \n",
    "  if case == 2 and action == 0:\n",
    "    if n < parameters[6]:\n",
    "      R = parameters[6]*parameters[7] + (1-parameters[6])*parameters[8]\n",
    "    else:\n",
    "      R = (1-parameters[6])*parameters[8]\n",
    "  elif case == 2 and action == 1:\n",
    "    if n < parameters[9]:\n",
    "      R = parameters[9]*parameters[10] + (1-parameters[9])*parameters[11]\n",
    "    else:\n",
    "      R = (1-parameters[9])*parameters[11]\n",
    "  \n",
    "  return R"
   ]
  },
  {
   "cell_type": "code",
   "execution_count": 32,
   "metadata": {
    "id": "X8LEsSa6q75R"
   },
   "outputs": [],
   "source": [
    "def Q_learning(total_episodes,parameters,case=1):\n",
    "  \n",
    "  epsilon = 1.0 \n",
    "  actions = [0,1]  # 0-> A , 1 -> B\n",
    "  qtable = np.array([0.0,0.0])\n",
    "  rewards_A = []\n",
    "  rewards_B = []\n",
    "  trackingList = []\n",
    "\n",
    "  for episode in range(total_episodes): \n",
    "    \n",
    "    #exp_exp_tradeoff = random.uniform(0, 1)\n",
    "    exp_exp_tradeoff = random.random()\n",
    "    \n",
    "    if exp_exp_tradeoff > epsilon:\n",
    "        action = np.argmax(qtable)   # If this number > greater than epsilon --> exploitation (taking the biggest Q value for this state)\n",
    "    else:\n",
    "        action = random.choice(actions)  # Else doing a random choice --> exploration \n",
    "\n",
    "    \n",
    "    E_reward = getReward(action,parameters,case)\n",
    "\n",
    "    if action == 0:\n",
    "      rewards_A.append(E_reward)\n",
    "    else:\n",
    "      rewards_B.append(E_reward)\n",
    "\n",
    "\n",
    "    qtable[action] =  E_reward + discount_rate * qtable[action]\n",
    "\n",
    "    trackingList.append([episode,qtable[0],qtable[1]])\n",
    "\n",
    "    \n",
    "    # Reduce epsilon (because we need less and less exploration)\n",
    "    epsilon = min_epsilon + (max_epsilon - min_epsilon)*np.exp(-decay_rate*episode)\n",
    "\n",
    "\n",
    "  print(\"Q-table\" , qtable)\n",
    "  return rewards_A , rewards_B , trackingList "
   ]
  },
  {
   "cell_type": "code",
   "execution_count": 33,
   "metadata": {
    "id": "4KMII9eirv0q"
   },
   "outputs": [],
   "source": [
    "total_episodes = 1000\n",
    "discount_rate = 0.99\n",
    "           \n",
    "max_epsilon = 1.0             \n",
    "min_epsilon = 0.01            \n",
    "decay_rate = 0.005            "
   ]
  },
  {
   "cell_type": "markdown",
   "metadata": {
    "id": "1FVAASjwxHF8"
   },
   "source": [
    "## Calling the functions"
   ]
  },
  {
   "cell_type": "code",
   "execution_count": 34,
   "metadata": {
    "colab": {
     "base_uri": "https://localhost:8080/"
    },
    "id": "lq5LwcKF9K1o",
    "outputId": "853256b4-2986-4fe5-f672-bdfed700924b"
   },
   "outputs": [
    {
     "ename": "TypeError",
     "evalue": "'<' not supported between instances of 'float' and 'str'",
     "output_type": "error",
     "traceback": [
      "\u001b[1;31m---------------------------------------------------------------------------\u001b[0m",
      "\u001b[1;31mTypeError\u001b[0m                                 Traceback (most recent call last)",
      "\u001b[1;32m~\\AppData\\Local\\Temp/ipykernel_14400/340218409.py\u001b[0m in \u001b[0;36m<module>\u001b[1;34m\u001b[0m\n\u001b[1;32m----> 1\u001b[1;33m \u001b[0mrewards_A_case1\u001b[0m \u001b[1;33m,\u001b[0m \u001b[0mrewards_B_case1\u001b[0m \u001b[1;33m,\u001b[0m \u001b[0mtrackingList_case1\u001b[0m\u001b[1;33m=\u001b[0m \u001b[0mQ_learning\u001b[0m\u001b[1;33m(\u001b[0m\u001b[0mtotal_episodes\u001b[0m\u001b[1;33m,\u001b[0m\u001b[0mparameters\u001b[0m\u001b[1;33m,\u001b[0m\u001b[0mcase\u001b[0m\u001b[1;33m=\u001b[0m\u001b[1;36m1\u001b[0m\u001b[1;33m)\u001b[0m\u001b[1;33m\u001b[0m\u001b[1;33m\u001b[0m\u001b[0m\n\u001b[0m",
      "\u001b[1;32m~\\AppData\\Local\\Temp/ipykernel_14400/3826721989.py\u001b[0m in \u001b[0;36mQ_learning\u001b[1;34m(total_episodes, parameters, case)\u001b[0m\n\u001b[0;32m     19\u001b[0m \u001b[1;33m\u001b[0m\u001b[0m\n\u001b[0;32m     20\u001b[0m \u001b[1;33m\u001b[0m\u001b[0m\n\u001b[1;32m---> 21\u001b[1;33m     \u001b[0mE_reward\u001b[0m \u001b[1;33m=\u001b[0m \u001b[0mgetReward\u001b[0m\u001b[1;33m(\u001b[0m\u001b[0maction\u001b[0m\u001b[1;33m,\u001b[0m\u001b[0mparameters\u001b[0m\u001b[1;33m,\u001b[0m\u001b[0mcase\u001b[0m\u001b[1;33m)\u001b[0m\u001b[1;33m\u001b[0m\u001b[1;33m\u001b[0m\u001b[0m\n\u001b[0m\u001b[0;32m     22\u001b[0m \u001b[1;33m\u001b[0m\u001b[0m\n\u001b[0;32m     23\u001b[0m     \u001b[1;32mif\u001b[0m \u001b[0maction\u001b[0m \u001b[1;33m==\u001b[0m \u001b[1;36m0\u001b[0m\u001b[1;33m:\u001b[0m\u001b[1;33m\u001b[0m\u001b[1;33m\u001b[0m\u001b[0m\n",
      "\u001b[1;32m~\\AppData\\Local\\Temp/ipykernel_14400/3145549225.py\u001b[0m in \u001b[0;36mgetReward\u001b[1;34m(action, parameters, case)\u001b[0m\n\u001b[0;32m      8\u001b[0m       \u001b[0mR\u001b[0m \u001b[1;33m=\u001b[0m \u001b[1;33m(\u001b[0m\u001b[1;36m1\u001b[0m\u001b[1;33m-\u001b[0m\u001b[0mparameters\u001b[0m\u001b[1;33m[\u001b[0m\u001b[1;36m0\u001b[0m\u001b[1;33m]\u001b[0m\u001b[1;33m)\u001b[0m\u001b[1;33m*\u001b[0m\u001b[0mparameters\u001b[0m\u001b[1;33m[\u001b[0m\u001b[1;36m2\u001b[0m\u001b[1;33m]\u001b[0m\u001b[1;33m\u001b[0m\u001b[1;33m\u001b[0m\u001b[0m\n\u001b[0;32m      9\u001b[0m   \u001b[1;32melif\u001b[0m \u001b[0mcase\u001b[0m \u001b[1;33m==\u001b[0m \u001b[1;36m1\u001b[0m \u001b[1;32mand\u001b[0m \u001b[0maction\u001b[0m \u001b[1;33m==\u001b[0m \u001b[1;36m1\u001b[0m\u001b[1;33m:\u001b[0m\u001b[1;33m\u001b[0m\u001b[1;33m\u001b[0m\u001b[0m\n\u001b[1;32m---> 10\u001b[1;33m     \u001b[1;32mif\u001b[0m \u001b[0mn\u001b[0m \u001b[1;33m<\u001b[0m \u001b[0mparameters\u001b[0m\u001b[1;33m[\u001b[0m\u001b[1;36m3\u001b[0m\u001b[1;33m]\u001b[0m\u001b[1;33m:\u001b[0m\u001b[1;33m\u001b[0m\u001b[1;33m\u001b[0m\u001b[0m\n\u001b[0m\u001b[0;32m     11\u001b[0m       \u001b[0mR\u001b[0m \u001b[1;33m=\u001b[0m \u001b[0mparameters\u001b[0m\u001b[1;33m[\u001b[0m\u001b[1;36m3\u001b[0m\u001b[1;33m]\u001b[0m\u001b[1;33m*\u001b[0m\u001b[0mparameters\u001b[0m\u001b[1;33m[\u001b[0m\u001b[1;36m4\u001b[0m\u001b[1;33m]\u001b[0m \u001b[1;33m+\u001b[0m \u001b[1;33m(\u001b[0m\u001b[1;36m1\u001b[0m\u001b[1;33m-\u001b[0m\u001b[0mparameters\u001b[0m\u001b[1;33m[\u001b[0m\u001b[1;36m3\u001b[0m\u001b[1;33m]\u001b[0m\u001b[1;33m)\u001b[0m\u001b[1;33m*\u001b[0m\u001b[0mparameters\u001b[0m\u001b[1;33m[\u001b[0m\u001b[1;36m5\u001b[0m\u001b[1;33m]\u001b[0m\u001b[1;33m\u001b[0m\u001b[1;33m\u001b[0m\u001b[0m\n\u001b[0;32m     12\u001b[0m     \u001b[1;32melse\u001b[0m\u001b[1;33m:\u001b[0m\u001b[1;33m\u001b[0m\u001b[1;33m\u001b[0m\u001b[0m\n",
      "\u001b[1;31mTypeError\u001b[0m: '<' not supported between instances of 'float' and 'str'"
     ]
    }
   ],
   "source": [
    "rewards_A_case1 , rewards_B_case1 , trackingList_case1= Q_learning(total_episodes,parameters,case=1)"
   ]
  },
  {
   "cell_type": "code",
   "execution_count": 29,
   "metadata": {
    "colab": {
     "base_uri": "https://localhost:8080/"
    },
    "id": "KZ9lxegF5V9O",
    "outputId": "c1b9cf3c-e8c1-45f6-e8af-9cf5ca566191"
   },
   "outputs": [
    {
     "ename": "NameError",
     "evalue": "name 'rewards_A_case1' is not defined",
     "output_type": "error",
     "traceback": [
      "\u001b[1;31m---------------------------------------------------------------------------\u001b[0m",
      "\u001b[1;31mNameError\u001b[0m                                 Traceback (most recent call last)",
      "\u001b[1;32m~\\AppData\\Local\\Temp/ipykernel_14400/2898607011.py\u001b[0m in \u001b[0;36m<module>\u001b[1;34m\u001b[0m\n\u001b[0;32m      1\u001b[0m \u001b[1;31m# Calculate and print the average reward of bridge A and B in the first case\u001b[0m\u001b[1;33m\u001b[0m\u001b[1;33m\u001b[0m\u001b[0m\n\u001b[1;32m----> 2\u001b[1;33m \u001b[0mprint\u001b[0m\u001b[1;33m(\u001b[0m\u001b[1;34m\"The reward of choosing the bridge A, case 1: \"\u001b[0m \u001b[1;33m,\u001b[0m \u001b[0mstr\u001b[0m\u001b[1;33m(\u001b[0m\u001b[0mnp\u001b[0m\u001b[1;33m.\u001b[0m\u001b[0maverage\u001b[0m\u001b[1;33m(\u001b[0m\u001b[0mrewards_A_case1\u001b[0m\u001b[1;33m)\u001b[0m\u001b[1;33m)\u001b[0m\u001b[1;33m)\u001b[0m\u001b[1;33m\u001b[0m\u001b[1;33m\u001b[0m\u001b[0m\n\u001b[0m\u001b[0;32m      3\u001b[0m \u001b[0mprint\u001b[0m\u001b[1;33m(\u001b[0m\u001b[1;34m\"The reward of choosing the bridge B, case 1: \"\u001b[0m \u001b[1;33m,\u001b[0m \u001b[0mstr\u001b[0m\u001b[1;33m(\u001b[0m\u001b[0mnp\u001b[0m\u001b[1;33m.\u001b[0m\u001b[0maverage\u001b[0m\u001b[1;33m(\u001b[0m\u001b[0mrewards_B_case1\u001b[0m\u001b[1;33m)\u001b[0m\u001b[1;33m)\u001b[0m\u001b[1;33m)\u001b[0m\u001b[1;33m\u001b[0m\u001b[1;33m\u001b[0m\u001b[0m\n",
      "\u001b[1;31mNameError\u001b[0m: name 'rewards_A_case1' is not defined"
     ]
    }
   ],
   "source": [
    "# Calculate and print the average reward of bridge A and B in the first case\n",
    "print(\"The reward of choosing the bridge A, case 1: \" , str(np.average(rewards_A_case1)))\n",
    "print(\"The reward of choosing the bridge B, case 1: \" , str(np.average(rewards_B_case1)))"
   ]
  },
  {
   "cell_type": "code",
   "execution_count": 9,
   "metadata": {
    "colab": {
     "base_uri": "https://localhost:8080/"
    },
    "id": "WTO69mvUgky0",
    "outputId": "bf719cc1-8129-4e00-ebbf-97c91109277f"
   },
   "outputs": [
    {
     "name": "stdout",
     "output_type": "stream",
     "text": [
      "Bridge A was chosen 740 times\n",
      "Bridge A was chosen 260 times\n"
     ]
    }
   ],
   "source": [
    "print(\"Bridge A was chosen\" , str(len(rewards_A_case1)) , \"times\")\n",
    "print(\"Bridge A was chosen\" , str(len(rewards_B_case1)), \"times\")"
   ]
  },
  {
   "cell_type": "code",
   "execution_count": 10,
   "metadata": {
    "colab": {
     "base_uri": "https://localhost:8080/",
     "height": 279
    },
    "id": "7g6jidh_hCQh",
    "outputId": "c7c7d718-1e18-4e61-febc-8472107e5976"
   },
   "outputs": [
    {
     "data": {
      "image/png": "[encoded data removed]",
      "text/plain": [
       "<Figure size 432x288 with 1 Axes>"
      ]
     },
     "metadata": {
      "needs_background": "light"
     },
     "output_type": "display_data"
    }
   ],
   "source": [
    "time1 = []\n",
    "R_A1 = []\n",
    "R_B1 =[]\n",
    "for lst in trackingList_case1:\n",
    "  time1.append(lst[0])\n",
    "  R_A1.append(lst[1])\n",
    "  R_B1.append(lst[2])\n",
    "\n",
    "plt.plot(time1, R_A1, 'r', label='Reward_A') \n",
    "plt.plot(time1, R_B1, 'b', label='Reward_B') \n",
    "\n",
    "plt.xlabel('Time')\n",
    "plt.ylabel('Reward')\n",
    "plt.legend()\n",
    "plt.show()"
   ]
  },
  {
   "cell_type": "code",
   "execution_count": 11,
   "metadata": {
    "colab": {
     "base_uri": "https://localhost:8080/"
    },
    "id": "-6oVjeqd9aRY",
    "outputId": "22aeb965-88f9-4852-9925-e4e9ae11759f"
   },
   "outputs": [
    {
     "ename": "IndexError",
     "evalue": "index 9 is out of bounds for axis 0 with size 6",
     "output_type": "error",
     "traceback": [
      "\u001b[1;31m---------------------------------------------------------------------------\u001b[0m",
      "\u001b[1;31mIndexError\u001b[0m                                Traceback (most recent call last)",
      "\u001b[1;32m~\\AppData\\Local\\Temp/ipykernel_1644/3315862720.py\u001b[0m in \u001b[0;36m<module>\u001b[1;34m\u001b[0m\n\u001b[1;32m----> 1\u001b[1;33m \u001b[0mrewards_A_case2\u001b[0m \u001b[1;33m,\u001b[0m \u001b[0mrewards_B_case2\u001b[0m \u001b[1;33m,\u001b[0m \u001b[0mtrackingList_case2\u001b[0m\u001b[1;33m=\u001b[0m \u001b[0mQ_learning\u001b[0m\u001b[1;33m(\u001b[0m\u001b[0mtotal_episodes\u001b[0m\u001b[1;33m,\u001b[0m\u001b[0mparameters\u001b[0m\u001b[1;33m,\u001b[0m\u001b[0mcase\u001b[0m\u001b[1;33m=\u001b[0m\u001b[1;36m2\u001b[0m\u001b[1;33m)\u001b[0m\u001b[1;33m\u001b[0m\u001b[1;33m\u001b[0m\u001b[0m\n\u001b[0m",
      "\u001b[1;32m~\\AppData\\Local\\Temp/ipykernel_1644/3826721989.py\u001b[0m in \u001b[0;36mQ_learning\u001b[1;34m(total_episodes, parameters, case)\u001b[0m\n\u001b[0;32m     19\u001b[0m \u001b[1;33m\u001b[0m\u001b[0m\n\u001b[0;32m     20\u001b[0m \u001b[1;33m\u001b[0m\u001b[0m\n\u001b[1;32m---> 21\u001b[1;33m     \u001b[0mE_reward\u001b[0m \u001b[1;33m=\u001b[0m \u001b[0mgetReward\u001b[0m\u001b[1;33m(\u001b[0m\u001b[0maction\u001b[0m\u001b[1;33m,\u001b[0m\u001b[0mparameters\u001b[0m\u001b[1;33m,\u001b[0m\u001b[0mcase\u001b[0m\u001b[1;33m)\u001b[0m\u001b[1;33m\u001b[0m\u001b[1;33m\u001b[0m\u001b[0m\n\u001b[0m\u001b[0;32m     22\u001b[0m \u001b[1;33m\u001b[0m\u001b[0m\n\u001b[0;32m     23\u001b[0m     \u001b[1;32mif\u001b[0m \u001b[0maction\u001b[0m \u001b[1;33m==\u001b[0m \u001b[1;36m0\u001b[0m\u001b[1;33m:\u001b[0m\u001b[1;33m\u001b[0m\u001b[1;33m\u001b[0m\u001b[0m\n",
      "\u001b[1;32m~\\AppData\\Local\\Temp/ipykernel_1644/3145549225.py\u001b[0m in \u001b[0;36mgetReward\u001b[1;34m(action, parameters, case)\u001b[0m\n\u001b[0;32m     20\u001b[0m       \u001b[0mR\u001b[0m \u001b[1;33m=\u001b[0m \u001b[1;33m(\u001b[0m\u001b[1;36m1\u001b[0m\u001b[1;33m-\u001b[0m\u001b[0mparameters\u001b[0m\u001b[1;33m[\u001b[0m\u001b[1;36m6\u001b[0m\u001b[1;33m]\u001b[0m\u001b[1;33m)\u001b[0m\u001b[1;33m*\u001b[0m\u001b[0mparameters\u001b[0m\u001b[1;33m[\u001b[0m\u001b[1;36m8\u001b[0m\u001b[1;33m]\u001b[0m\u001b[1;33m\u001b[0m\u001b[1;33m\u001b[0m\u001b[0m\n\u001b[0;32m     21\u001b[0m   \u001b[1;32melif\u001b[0m \u001b[0mcase\u001b[0m \u001b[1;33m==\u001b[0m \u001b[1;36m2\u001b[0m \u001b[1;32mand\u001b[0m \u001b[0maction\u001b[0m \u001b[1;33m==\u001b[0m \u001b[1;36m1\u001b[0m\u001b[1;33m:\u001b[0m\u001b[1;33m\u001b[0m\u001b[1;33m\u001b[0m\u001b[0m\n\u001b[1;32m---> 22\u001b[1;33m     \u001b[1;32mif\u001b[0m \u001b[0mn\u001b[0m \u001b[1;33m<\u001b[0m \u001b[0mparameters\u001b[0m\u001b[1;33m[\u001b[0m\u001b[1;36m9\u001b[0m\u001b[1;33m]\u001b[0m\u001b[1;33m:\u001b[0m\u001b[1;33m\u001b[0m\u001b[1;33m\u001b[0m\u001b[0m\n\u001b[0m\u001b[0;32m     23\u001b[0m       \u001b[0mR\u001b[0m \u001b[1;33m=\u001b[0m \u001b[0mparameters\u001b[0m\u001b[1;33m[\u001b[0m\u001b[1;36m9\u001b[0m\u001b[1;33m]\u001b[0m\u001b[1;33m*\u001b[0m\u001b[0mparameters\u001b[0m\u001b[1;33m[\u001b[0m\u001b[1;36m10\u001b[0m\u001b[1;33m]\u001b[0m \u001b[1;33m+\u001b[0m \u001b[1;33m(\u001b[0m\u001b[1;36m1\u001b[0m\u001b[1;33m-\u001b[0m\u001b[0mparameters\u001b[0m\u001b[1;33m[\u001b[0m\u001b[1;36m9\u001b[0m\u001b[1;33m]\u001b[0m\u001b[1;33m)\u001b[0m\u001b[1;33m*\u001b[0m\u001b[0mparameters\u001b[0m\u001b[1;33m[\u001b[0m\u001b[1;36m11\u001b[0m\u001b[1;33m]\u001b[0m\u001b[1;33m\u001b[0m\u001b[1;33m\u001b[0m\u001b[0m\n\u001b[0;32m     24\u001b[0m     \u001b[1;32melse\u001b[0m\u001b[1;33m:\u001b[0m\u001b[1;33m\u001b[0m\u001b[1;33m\u001b[0m\u001b[0m\n",
      "\u001b[1;32m~\\anaconda3\\lib\\site-packages\\pandas\\core\\series.py\u001b[0m in \u001b[0;36m__getitem__\u001b[1;34m(self, key)\u001b[0m\n\u001b[0;32m    937\u001b[0m \u001b[1;33m\u001b[0m\u001b[0m\n\u001b[0;32m    938\u001b[0m         \u001b[1;32mif\u001b[0m \u001b[0mis_integer\u001b[0m\u001b[1;33m(\u001b[0m\u001b[0mkey\u001b[0m\u001b[1;33m)\u001b[0m \u001b[1;32mand\u001b[0m \u001b[0mself\u001b[0m\u001b[1;33m.\u001b[0m\u001b[0mindex\u001b[0m\u001b[1;33m.\u001b[0m\u001b[0m_should_fallback_to_positional\u001b[0m\u001b[1;33m(\u001b[0m\u001b[1;33m)\u001b[0m\u001b[1;33m:\u001b[0m\u001b[1;33m\u001b[0m\u001b[1;33m\u001b[0m\u001b[0m\n\u001b[1;32m--> 939\u001b[1;33m             \u001b[1;32mreturn\u001b[0m \u001b[0mself\u001b[0m\u001b[1;33m.\u001b[0m\u001b[0m_values\u001b[0m\u001b[1;33m[\u001b[0m\u001b[0mkey\u001b[0m\u001b[1;33m]\u001b[0m\u001b[1;33m\u001b[0m\u001b[1;33m\u001b[0m\u001b[0m\n\u001b[0m\u001b[0;32m    940\u001b[0m \u001b[1;33m\u001b[0m\u001b[0m\n\u001b[0;32m    941\u001b[0m         \u001b[1;32melif\u001b[0m \u001b[0mkey_is_scalar\u001b[0m\u001b[1;33m:\u001b[0m\u001b[1;33m\u001b[0m\u001b[1;33m\u001b[0m\u001b[0m\n",
      "\u001b[1;31mIndexError\u001b[0m: index 9 is out of bounds for axis 0 with size 6"
     ]
    }
   ],
   "source": [
    "rewards_A_case2 , rewards_B_case2 , trackingList_case2= Q_learning(total_episodes,parameters,case=2)"
   ]
  },
  {
   "cell_type": "code",
   "execution_count": null,
   "metadata": {
    "colab": {
     "base_uri": "https://localhost:8080/"
    },
    "id": "edvs2eemmjMJ",
    "outputId": "f18d8afa-ca92-45f5-a0be-e922561cb699"
   },
   "outputs": [],
   "source": [
    "print(\"Bridge A was chosen\" , str(len(rewards_A_case2)) , \"times\")\n",
    "print(\"Bridge A was chosen\" , str(len(rewards_B_case2)), \"times\")"
   ]
  },
  {
   "cell_type": "code",
   "execution_count": null,
   "metadata": {
    "colab": {
     "base_uri": "https://localhost:8080/"
    },
    "id": "H1kTVGwL6-kO",
    "outputId": "1e987020-9aa6-4f1f-a60c-f3062c8fd648"
   },
   "outputs": [],
   "source": [
    "# Calculate and print the average reward of bridge A and B in the second case\n",
    "print(\"The reward of choosing the bridge A, case 2: \" , str(np.average(rewards_A_case2)))\n",
    "print(\"The reward of choosing the bridge B, case 2: \" , str(np.average(rewards_B_case2)))"
   ]
  },
  {
   "cell_type": "code",
   "execution_count": null,
   "metadata": {
    "colab": {
     "base_uri": "https://localhost:8080/",
     "height": 279
    },
    "id": "FNunaqdhml0J",
    "outputId": "728f190a-12ee-4910-f3e4-a2be92a01823"
   },
   "outputs": [],
   "source": [
    "time2 = []\n",
    "R_A2 = []\n",
    "R_B2 =[]\n",
    "for lst in trackingList_case2:\n",
    "  time2.append(lst[0])\n",
    "  R_A2.append(lst[1])\n",
    "  R_B2.append(lst[2])\n",
    "\n",
    "plt.plot(time2, R_A2, 'r', label='Reward_A') \n",
    "plt.plot(time2, R_B2, 'b', label='Reward_B') \n",
    "\n",
    "plt.xlabel('Time')\n",
    "plt.ylabel('Reward')\n",
    "plt.legend()\n",
    "plt.show()"
   ]
  },
  {
   "cell_type": "code",
   "execution_count": null,
   "metadata": {},
   "outputs": [],
   "source": []
  },
  {
   "cell_type": "code",
   "execution_count": 1,
   "metadata": {},
   "outputs": [
    {
     "name": "stdout",
     "output_type": "stream",
     "text": [
      "Collecting gym\n",
      "  Downloading gym-0.23.1.tar.gz (626 kB)\n",
      "     -------------------------------------- 626.2/626.2 KB 5.7 MB/s eta 0:00:00\n",
      "  Installing build dependencies: started\n",
      "  Installing build dependencies: finished with status 'done'\n",
      "  Getting requirements to build wheel: started\n",
      "  Getting requirements to build wheel: finished with status 'done'\n",
      "  Preparing metadata (pyproject.toml): started\n",
      "  Preparing metadata (pyproject.toml): finished with status 'done'\n",
      "Requirement already satisfied: numpy>=1.18.0 in c:\\users\\mohammed\\anaconda3\\lib\\site-packages (from gym) (1.20.3)\n",
      "Collecting gym-notices>=0.0.4\n",
      "  Downloading gym_notices-0.0.6-py3-none-any.whl (2.7 kB)\n",
      "Collecting importlib-metadata>=4.10.0\n",
      "  Downloading importlib_metadata-4.11.3-py3-none-any.whl (18 kB)\n",
      "Requirement already satisfied: cloudpickle>=1.2.0 in c:\\users\\mohammed\\anaconda3\\lib\\site-packages (from gym) (2.0.0)\n",
      "Requirement already satisfied: zipp>=0.5 in c:\\users\\mohammed\\anaconda3\\lib\\site-packages (from importlib-metadata>=4.10.0->gym) (3.6.0)\n",
      "Building wheels for collected packages: gym\n",
      "  Building wheel for gym (pyproject.toml): started\n",
      "  Building wheel for gym (pyproject.toml): finished with status 'done'\n",
      "  Created wheel for gym: filename=gym-0.23.1-py3-none-any.whl size=701379 sha256=881cf5ac6d6fd56e5a708e21f5317eb7b6d9b4549a6948beb7a64d6a9d97529f\n",
      "  Stored in directory: c:\\users\\mohammed\\appdata\\local\\pip\\cache\\wheels\\4e\\be\\7e\\92a54668db96883e38ce60a9249dc55de7cd6eee49e7311940\n",
      "Successfully built gym\n",
      "Installing collected packages: gym-notices, importlib-metadata, gym\n",
      "  Attempting uninstall: importlib-metadata\n",
      "    Found existing installation: importlib-metadata 4.8.1\n",
      "    Uninstalling importlib-metadata-4.8.1:\n",
      "      Successfully uninstalled importlib-metadata-4.8.1\n",
      "Successfully installed gym-0.23.1 gym-notices-0.0.6 importlib-metadata-4.11.3\n"
     ]
    },
    {
     "name": "stderr",
     "output_type": "stream",
     "text": [
      "WARNING: You are using pip version 22.0.3; however, version 22.0.4 is available.\n",
      "You should consider upgrading via the 'C:\\Users\\Mohammed\\anaconda3\\python.exe -m pip install --upgrade pip' command.\n"
     ]
    }
   ],
   "source": [
    "# !pip install gym"
   ]
  },
  {
   "cell_type": "code",
   "execution_count": 4,
   "metadata": {},
   "outputs": [
    {
     "name": "stderr",
     "output_type": "stream",
     "text": [
      "C:\\Users\\Mohammed\\anaconda3\\lib\\site-packages\\gym\\envs\\classic_control\\cartpole.py:163: UserWarning: \u001b[33mWARN: You are calling 'step()' even though this environment has already returned done = True. You should always call 'reset()' once you receive 'done = True' -- any further steps are undefined behavior.\u001b[0m\n",
      "  logger.warn(\n"
     ]
    }
   ],
   "source": [
    "import gym\n",
    "env = gym.make('CartPole-v0')\n",
    "env.reset()\n",
    "for _ in range(1000):\n",
    "    env.render()\n",
    "    env.step(env.action_space.sample()) # take a random action\n",
    "env.close()"
   ]
  },
  {
   "cell_type": "code",
   "execution_count": 5,
   "metadata": {},
   "outputs": [],
   "source": [
    "# !pip install pygame"
   ]
  },
  {
   "cell_type": "code",
   "execution_count": null,
   "metadata": {},
   "outputs": [],
   "source": []
  }
 ],
 "metadata": {
  "colab": {
   "collapsed_sections": [],
   "name": "Homework 1. DRL. AYKN6P.ipynb",
   "provenance": []
  },
  "kernelspec": {
   "display_name": "Python 3 (ipykernel)",
   "language": "python",
   "name": "python3"
  },
  "language_info": {
   "codemirror_mode": {
    "name": "ipython",
    "version": 3
   },
   "file_extension": ".py",
   "mimetype": "text/x-python",
   "name": "python",
   "nbconvert_exporter": "python",
   "pygments_lexer": "ipython3",
   "version": "3.9.7"
  }
 },
 "nbformat": 4,
 "nbformat_minor": 1
}
